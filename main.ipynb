{
 "nbformat": 4,
 "nbformat_minor": 2,
 "metadata": {
  "language_info": {
   "name": "python",
   "codemirror_mode": {
    "name": "ipython",
    "version": 3
   }
  },
  "orig_nbformat": 2,
  "file_extension": ".py",
  "mimetype": "text/x-python",
  "name": "python",
  "npconvert_exporter": "python",
  "pygments_lexer": "ipython3",
  "version": 3
 },
 "cells": [
  {
   "cell_type": "code",
   "execution_count": 7,
   "metadata": {},
   "outputs": [],
   "source": [
    "import pandas \n",
    "\n",
    "dfs = pandas.read_excel('C2011-07 Patient Transport System.xlsx', sheet_name=None,\n",
    "    skiprows=1)\n",
    "sheetnames = list(dfs.keys())"
   ]
  },
  {
   "cell_type": "code",
   "execution_count": 35,
   "metadata": {},
   "outputs": [],
   "source": [
    "def parse_date(date):\n",
    "    elms = date.split()\n",
    "    total_hour = 0\n",
    "    for elm in elms:\n",
    "        if elm.endswith(\"d\"):\n",
    "            total_hour += int(elm[:-1])*24\n",
    "        elif elm.endswith(\"h\"):\n",
    "            total_hour += int(elm[:-1])\n",
    "    return total_hour\n",
    "\n",
    "def find_column_indices(header, col_names):\n",
    "    indices = []\n",
    "    for name in col_names:\n",
    "        for i, h in enumerate(header):\n",
    "            if h == name:\n",
    "                indices.append(i)\n",
    "    return indices"
   ]
  },
  {
   "cell_type": "code",
   "execution_count": 31,
   "metadata": {},
   "outputs": [],
   "source": [
    "import os \n",
    "if not os.path.isdir(\"data\"):\n",
    "    os.makedirs(\"data\")\n",
    "baselines = dfs['Baseline Schedule'][['ID', 'Duration']].values\n",
    "baselines[:,1] = [parse_date(x) for x in baselines[:,1]]"
   ]
  },
  {
   "cell_type": "code",
   "execution_count": 43,
   "metadata": {},
   "outputs": [
    {
     "name": "stdout",
     "output_type": "stream",
     "text": "PD: 9336\nNumber of tracking periods: 23\nT0_AT = T0_ES:  405.9130434782609\n"
    }
   ],
   "source": [
    "# planned duration\n",
    "PD = baselines[0,1]\n",
    "# tracking periods\n",
    "tracking_periods = [x for x in sheetnames if \"TP\" in x]\n",
    "n_tracking_periods = len(tracking_periods)\n",
    "print(\"PD:\", PD)\n",
    "print(\"Number of tracking periods:\", n_tracking_periods)\n",
    "# init trend\n",
    "Ts_AT = [PD/n_tracking_periods]\n",
    "Ts_ES = [PD/n_tracking_periods]\n",
    "print(\"T0_AT = T0_ES: \", Ts_AT[0])"
   ]
  },
  {
   "cell_type": "code",
   "execution_count": 56,
   "metadata": {},
   "outputs": [
    {
     "name": "stdout",
     "output_type": "stream",
     "text": "Tracking periods: Project Control - TP1\nEAC: 47735.37391304348 27.044167753068695\nTracking periods: TP2\nEAC: 40491.85565217391 31.8166679447867\nTracking periods: TP3\nEAC: 39008.24347826086 31.77735908131532\nTracking periods: TP4\nEAC: 37524.63130434782 31.790190312949782\nTracking periods: TP5\nEAC: 36041.01913043478 31.78678373447647\nTracking periods: TP6\nEAC: 34557.406956521736 31.802347279319168\nTracking periods: TP7\nEAC: 33073.79478260869 31.848681946606575\nTracking periods: TP8\nEAC: 31590.18260869565 33.39925173329627\nTracking periods: TP9\nEAC: 30106.570434782607 30.501112978152804\nTracking periods: TP10\nEAC: 28622.958260869564 32.08137947623256\nTracking periods: TP11\nEAC: 27139.34608695652 31.51903211337108\nTracking periods: TP12\nEAC: 25655.733913043478 31.943691076638466\nTracking periods: TP13\nEAC: 24172.12173913043 31.624025447637408\nTracking periods: TP14\nEAC: 22688.50956521739 31.738277705354076\nTracking periods: TP15\nEAC: 21204.897391304345 31.783470880346055\nTracking periods: TP16\nEAC: 19721.285217391305 31.743518430941467\nTracking periods: TP17\nEAC: 18237.67304347826 31.747287221256162\nTracking periods: TP18\nEAC: 16754.060869565215 31.745904792796722\nTracking periods: TP19\nEAC: 15270.448695652172 31.74249821432341\nTracking periods: TP20\nEAC: 13786.83652173913 31.739091635850098\nTracking periods: TP21\nEAC: 12303.224347826086 31.735685057376784\nTracking periods: TP22\nEAC: 10819.612173913043 31.732278478903474\nTracking periods: TP23\nEAC: 9336.0 31.72887190043016\n"
    }
   ],
   "source": [
    "# Col 0 = ID, col 12 = Duration\n",
    "beta = 0.15\n",
    "ATs = [0] # init AT0 = 0\n",
    "t = 1\n",
    "EVs = [0]\n",
    "PVs = [0]\n",
    "ESs = [0]\n",
    "EACs = [] # predict project duration\n",
    "for period in tracking_periods:\n",
    "    print(\"Tracking periods:\", period)\n",
    "    cols = find_column_indices(dfs[period].values[1], [\"ID\", \"Duration\", \"Earned Value (EV)\", \"Planned Value (PV)\"])\n",
    "    data_period = dfs[period].values[2:, cols] \n",
    "    data_period[:,1] = [parse_date(x) for x in data_period[:,1]]\n",
    "    assert (baselines[:,0] == data_period[:,0]).sum() == len(baselines), \"Wrong permutation!\"\n",
    "\n",
    "    # current trend\n",
    "    cur_AT = data_period[0,1]\n",
    "    ATs.append(cur_AT)\n",
    "    T_AT = beta*(ATs[t] - ATs[t-1]) + (1-beta)*Ts_AT[t-1]\n",
    "    Ts_AT.append(T_AT)\n",
    "\n",
    "    EV = data_period[0,2]\n",
    "    PV = data_period[0,3]\n",
    "    PVs.append(PV)\n",
    "    EVs.append(EV)\n",
    "    if PVs[t] == PVs[t-1]:\n",
    "        ES = t-1\n",
    "    else:\n",
    "        ES = t-1 + (EV-PVs[t-1]) / (PVs[t]-PVs[t-1])\n",
    "    ESs.append(ES)\n",
    "    T_ES = beta*(ESs[t] - ESs[t-1]) + (1-beta)*Ts_ES[t-1]\n",
    "    Ts_ES.append(T_ES)\n",
    "\n",
    "    k = (PD-ESs[t]) / T_ES\n",
    "    EAC = ATs[t] + k * T_AT\n",
    "    EAC = ATs[t] + (n_tracking_periods-t)*T_AT\n",
    "    EACs.append(EAC)\n",
    "    print(\"EAC:\", EAC, k)\n",
    "    # end calculate\n",
    "    t += 1"
   ]
  },
  {
   "cell_type": "code",
   "execution_count": 53,
   "metadata": {},
   "outputs": [
    {
     "data": {
      "text/plain": "array([[0, 9336, 180759.44, 180759.44],\n       [50, 1032, 5512.64, 5512.64],\n       [1, 4, 125.12, 125.12],\n       [2, 2, 5137.28, 5137.28],\n       [3, 24, 250.24, 250.24],\n       [51, 24, 2478.88, 2478.88],\n       [4, 4, 2416.32, 2416.32],\n       [5, 2, 62.56, 62.56],\n       [52, 768, 2193.6, 2193.6],\n       [6, 48, 942.4, 942.4],\n       [7, 48, 500.48, 500.48],\n       [8, 72, 750.72, 750.72],\n       [53, 528, 3225.6, 3225.6],\n       [9, 72, 750.72, 750.72],\n       [10, 4, 1974.4, 1974.4],\n       [11, 48, 500.48, 500.48],\n       [54, 1728, 6334.08, 6334.08],\n       [12, 72, 750.72, 750.72],\n       [13, 24, 4832.64, 4832.64],\n       [14, 24, 250.24, 250.24],\n       [15, 48, 500.48, 500.48],\n       [55, 1776, 3115.12, 3115.12],\n       [16, 72, 750.72, 750.72],\n       [17, 4, 1863.92, 1863.92],\n       [18, 48, 500.48, 500.48],\n       [56, 4, 55373.52, 55373.52],\n       [19, 4, 55373.52, 55373.52],\n       [57, 288, 3460.8, 3460.8],\n       [20, 48, 2710.08, 2710.08],\n       [21, 72, 750.72, 750.72],\n       [58, 316, 2235.08, 2235.08],\n       [22, 48, 500.48, 500.48],\n       [23, 2, 931.96, 931.96],\n       [24, 4, 677.52, 677.52],\n       [25, 4, 125.12, 125.12],\n       [59, 4, 18493.52, 18493.52],\n       [26, 4, 18493.52, 18493.52],\n       [60, 24, 6408, 6408],\n       [27, 2, 1208.16, 1208.16],\n       [28, 2, 5199.84, 5199.84],\n       [61, 144, 5303.04, 5303.04],\n       [29, 144, 2651.52, 2651.52],\n       [30, 144, 2651.52, 2651.52],\n       [62, 2808, 3250.72, 3250.72],\n       [31, 24, 1250.24, 1250.24],\n       [32, 24, 1250.24, 1250.24],\n       [33, 24, 750.24, 750.24],\n       [63, 648, 5476.16, 5476.16],\n       [34, 24, 4533.76, 4533.76],\n       [35, 48, 942.4, 942.4],\n       [64, 648, 2502.4, 2502.4],\n       [36, 96, 1000.96, 1000.96],\n       [37, 144, 1501.44, 1501.44],\n       [65, 288, 44101.12, 44101.12],\n       [38, 48, 4784, 4784],\n       [39, 48, 4784, 4784],\n       [40, 48, 9008.64, 9008.64],\n       [41, 48, 8508.16, 8508.16],\n       [42, 48, 8508.16, 8508.16],\n       [43, 48, 8508.16, 8508.16],\n       [66, 288, 1355.04, 1355.04],\n       [44, 24, 250.24, 250.24],\n       [45, 24, 1104.8, 1104.8],\n       [67, 1704, 500, 500],\n       [46, 1704, 500, 500],\n       [68, 144, 9440.12, 9440.12],\n       [47, 2, 931.96, 931.96],\n       [48, 4, 8257.92, 8257.92],\n       [49, 24, 250.24, 250.24]], dtype=object)"
     },
     "execution_count": 53,
     "metadata": {},
     "output_type": "execute_result"
    }
   ],
   "source": [
    "data_period"
   ]
  },
  {
   "cell_type": "code",
   "execution_count": null,
   "metadata": {},
   "outputs": [],
   "source": []
  }
 ]
}