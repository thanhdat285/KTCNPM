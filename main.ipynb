{
 "nbformat": 4,
 "nbformat_minor": 2,
 "metadata": {
  "language_info": {
   "name": "python",
   "codemirror_mode": {
    "name": "ipython",
    "version": 3
   }
  },
  "orig_nbformat": 2,
  "file_extension": ".py",
  "mimetype": "text/x-python",
  "name": "python",
  "npconvert_exporter": "python",
  "pygments_lexer": "ipython3",
  "version": 3
 },
 "cells": [
  {
   "cell_type": "code",
   "execution_count": 7,
   "metadata": {},
   "outputs": [],
   "source": [
    "import pandas \n",
    "\n",
    "dfs = pandas.read_excel('C2011-07 Patient Transport System.xlsx', sheet_name=None,\n",
    "    skiprows=1)\n",
    "sheetnames = list(dfs.keys())"
   ]
  },
  {
   "cell_type": "code",
   "execution_count": 35,
   "metadata": {},
   "outputs": [],
   "source": [
    "def parse_date(date):\n",
    "    elms = date.split()\n",
    "    total_hour = 0\n",
    "    for elm in elms:\n",
    "        if elm.endswith(\"d\"):\n",
    "            total_hour += int(elm[:-1])*24\n",
    "        elif elm.endswith(\"h\"):\n",
    "            total_hour += int(elm[:-1])\n",
    "    return total_hour\n",
    "\n",
    "def find_column_indices(header, col_names):\n",
    "    indices = []\n",
    "    for name in col_names:\n",
    "        for i, h in enumerate(header):\n",
    "            if h == name:\n",
    "                indices.append(i)\n",
    "    return indices"
   ]
  },
  {
   "cell_type": "code",
   "execution_count": 67,
   "metadata": {},
   "outputs": [],
   "source": [
    "import os \n",
    "if not os.path.isdir(\"data\"):\n",
    "    os.makedirs(\"data\")\n",
    "baselines = dfs['Baseline Schedule'][['ID', 'Duration', 'Total Cost']].values\n",
    "baselines[:,1] = [parse_date(x) for x in baselines[:,1]]"
   ]
  },
  {
   "cell_type": "code",
   "execution_count": 43,
   "metadata": {},
   "outputs": [
    {
     "name": "stdout",
     "output_type": "stream",
     "text": "PD: 9336\nNumber of tracking periods: 23\nT0_AT = T0_ES:  405.9130434782609\n"
    }
   ],
   "source": [
    "# planned duration\n",
    "PD = baselines[0,1]\n",
    "# tracking periods\n",
    "tracking_periods = [x for x in sheetnames if \"TP\" in x]\n",
    "n_tracking_periods = len(tracking_periods)\n",
    "print(\"PD:\", PD)\n",
    "print(\"Number of tracking periods:\", n_tracking_periods)\n",
    "# init trend\n",
    "Ts_AT = [PD/n_tracking_periods]\n",
    "Ts_ES = [PD/n_tracking_periods]\n",
    "print(\"T0_AT = T0_ES: \", Ts_AT[0])"
   ]
  },
  {
   "cell_type": "code",
   "execution_count": 75,
   "metadata": {},
   "outputs": [
    {
     "name": "stdout",
     "output_type": "stream",
     "text": "Tracking periods: Project Control - TP1\nEAC: 11758.123453057986 27.044167753068695\nTracking periods: TP2\nEAC: 50454.39598825908 31.8166679447867\nTracking periods: TP3\nEAC: 50873.246641700316 31.77735908131532\nTracking periods: TP4\nEAC: 51373.20706183718 31.790190312949782\nTracking periods: TP5\nEAC: 51847.907746892706 31.78678373447647\nTracking periods: TP6\nEAC: 52352.11858671925 31.802347279319168\nTracking periods: TP7\nEAC: 52904.19735922575 31.848681946606575\nTracking periods: TP8\nEAC: 55796.28259590199 33.39925173329627\nTracking periods: TP9\nEAC: 51767.90266671162 30.501112978152804\nTracking periods: TP10\nEAC: 54706.18446915143 32.08137947623256\nTracking periods: TP11\nEAC: 54311.39006551621 31.51903211337108\nTracking periods: TP12\nEAC: 55451.99471853625 31.943691076638466\nTracking periods: TP13\nEAC: 55434.71897448063 31.624025447637408\nTracking periods: TP14\nEAC: 56230.708977221 31.738277705354076\nTracking periods: TP15\nEAC: 56528.33373550779 31.783470880346055\nTracking periods: TP16\nEAC: 57060.603714005614 31.743518430941467\nTracking periods: TP17\nEAC: 57546.46649010008 31.747287221256162\nTracking periods: TP18\nEAC: 58024.31596755901 31.745904792796722\nTracking periods: TP19\nEAC: 58499.01665261453 31.74249821432341\nTracking periods: TP20\nEAC: 58973.71733767006 31.739091635850098\nTracking periods: TP21\nEAC: 59448.418022725586 31.735685057376784\nTracking periods: TP22\nEAC: 59923.11870778111 31.732278478903474\nTracking periods: TP23\nEAC: 58186.23637137186 31.72887190043016\nProject actual duration: 10656\n"
    }
   ],
   "source": [
    "# Col 0 = ID, col 12 = Duration\n",
    "beta = 0.15\n",
    "ATs = [0] # init AT0 = 0\n",
    "t = 1\n",
    "EVs = [0]\n",
    "PVs = [0]\n",
    "ESs = [0]\n",
    "EACs = [] # predict project duration\n",
    "for period in tracking_periods:\n",
    "    print(\"Tracking periods:\", period)\n",
    "    cols = find_column_indices(dfs[period].values[1], [\"ID\", \"Actual Duration\", \"Earned Value (EV)\", \"Planned Value (PV)\"])\n",
    "    data_period = dfs[period].values[2:, cols] \n",
    "    data_period[:,1] = [parse_date(x) for x in data_period[:,1]]\n",
    "    assert (baselines[:,0] == data_period[:,0]).sum() == len(baselines), \"Wrong permutation!\"\n",
    "\n",
    "    # current trend\n",
    "    cur_AT = data_period[0,1]\n",
    "    ATs.append(cur_AT)\n",
    "    T_AT = beta*(ATs[t] - ATs[t-1]) + (1-beta)*Ts_AT[t-1]\n",
    "    Ts_AT.append(T_AT)\n",
    "\n",
    "    EV = data_period[0,2]\n",
    "    PV = data_period[0,3]\n",
    "    PVs.append(PV)\n",
    "    EVs.append(EV)\n",
    "    if PVs[t] == PVs[t-1]:\n",
    "        ES = t-1\n",
    "    else:\n",
    "        ES = t-1 + (EV-PVs[t-1]) / (PVs[t]-PVs[t-1])\n",
    "    ESs.append(ES)\n",
    "    T_ES = beta*(ESs[t] - ESs[t-1]) + (1-beta)*Ts_ES[t-1]\n",
    "    Ts_ES.append(T_ES)\n",
    "\n",
    "    k = (PD-ESs[t]) / T_ES\n",
    "    EAC = ATs[t] + k * T_AT\n",
    "    EACs.append(EAC)\n",
    "    print(\"EAC:\", EAC, k)\n",
    "    # end calculate\n",
    "    t += 1\n",
    "print(\"Project actual duration:\", data_period[0,1])"
   ]
  },
  {
   "cell_type": "markdown",
   "execution_count": null,
   "metadata": {},
   "outputs": [],
   "source": [
    "# Cost forecasting"
   ]
  },
  {
   "cell_type": "code",
   "execution_count": 68,
   "metadata": {},
   "outputs": [
    {
     "name": "stdout",
     "output_type": "stream",
     "text": "BAC: 180759.44\nNumber of tracking periods: 23\nT0_AC = T0_EV:  7859.106086956522\n"
    }
   ],
   "source": [
    "# planned duration\n",
    "BAC = baselines[0,2]\n",
    "# tracking periods\n",
    "tracking_periods = [x for x in sheetnames if \"TP\" in x]\n",
    "n_tracking_periods = len(tracking_periods)\n",
    "print(\"BAC:\", BAC)\n",
    "print(\"Number of tracking periods:\", n_tracking_periods)\n",
    "# init trend\n",
    "Ts_AC = [BAC/n_tracking_periods]\n",
    "Ts_EV = [BAC/n_tracking_periods]\n",
    "print(\"T0_AC = T0_EV: \", Ts_AC[0])"
   ]
  },
  {
   "cell_type": "code",
   "execution_count": 73,
   "metadata": {},
   "outputs": [
    {
     "name": "stdout",
     "output_type": "stream",
     "text": "Tracking periods: Project Control - TP1\nEAC: 180759.44 23.494837195290426\nTracking periods: TP2\nEAC: 180759.44 27.6409849356358\nTracking periods: TP3\nEAC: 184559.31011985693 28.447088414438838\nTracking periods: TP4\nEAC: 184403.74216758274 31.77590535250537\nTracking periods: TP5\nEAC: 183839.33854739068 30.164693647316167\nTracking periods: TP6\nEAC: 185317.30132215022 34.48445213183372\nTracking periods: TP7\nEAC: 184679.54944743039 33.35515019867455\nTracking periods: TP8\nEAC: 186355.06807933128 38.81813448278941\nTracking periods: TP9\nEAC: 186355.06807933128 45.66839350916401\nTracking periods: TP10\nEAC: 186060.22067067312 50.105556092869655\nTracking periods: TP11\nEAC: 185935.60455068896 57.146760315004805\nTracking periods: TP12\nEAC: 185139.88871996186 53.702437051069225\nTracking periods: TP13\nEAC: 185034.7834053899 61.07693980200441\nTracking periods: TP14\nEAC: 189392.01908728524 3.9815470441422636\nTracking periods: TP15\nEAC: 189392.0190872852 4.684172993108545\nTracking periods: TP16\nEAC: 191327.81826778763 4.994455945870864\nTracking periods: TP17\nEAC: 192661.35861146956 5.566550264323989\nTracking periods: TP18\nEAC: 189273.47816517513 0.7584929133805393\nTracking periods: TP19\nEAC: 189199.2092466024 0.7571473032937391\nTracking periods: TP20\nEAC: 189199.2092466024 0.890761533286752\nTracking periods: TP21\nEAC: 189199.2092466024 1.0479547450432376\nTracking periods: TP22\nEAC: 190727.65562658076 0.9988718899259474\nTracking periods: TP23\nEAC: 191065.059996338 0.0\nProject actual costs:  191065.059996338\n"
    }
   ],
   "source": [
    "# Col 0 = ID, col 12 = Duration\n",
    "beta = 0.15\n",
    "ACs = [0] # init AT0 = 0\n",
    "t = 1\n",
    "EVs = [0]\n",
    "EAC_costs = [] # predict project duration\n",
    "for period in tracking_periods:\n",
    "    print(\"Tracking periods:\", period)\n",
    "    cols = find_column_indices(dfs[period].values[1], [\"ID\", \"Actual Cost\", \"Earned Value (EV)\", \"Planned Value (PV)\"])\n",
    "    data_period = dfs[period].values[2:, cols] \n",
    "    assert (baselines[:,0] == data_period[:,0]).sum() == len(baselines), \"Wrong permutation!\"\n",
    "\n",
    "    # current trend\n",
    "    cur_AC = data_period[0,1]\n",
    "    ACs.append(cur_AC)\n",
    "    T_AC = beta*(ACs[t] - ACs[t-1]) + (1-beta)*Ts_AC[t-1]\n",
    "    Ts_AC.append(T_AC)\n",
    "\n",
    "    EV = data_period[0,2]\n",
    "    EVs.append(EV)\n",
    "    T_EV = beta*(EVs[t] - EVs[t-1]) + (1-beta)*Ts_EV[t-1]\n",
    "    Ts_EV.append(T_EV)\n",
    "\n",
    "    k = (BAC-EVs[t]) / T_EV\n",
    "    EAC = ACs[t] + k * T_AC\n",
    "    EACs.append(EAC)\n",
    "    print(\"EAC:\", EAC, k)\n",
    "    # end calculate\n",
    "    t += 1\n",
    "print(\"Project actual costs: \", data_period[0,1])"
   ]
  },
  {
   "cell_type": "code",
   "execution_count": null,
   "metadata": {},
   "outputs": [],
   "source": []
  }
 ]
}